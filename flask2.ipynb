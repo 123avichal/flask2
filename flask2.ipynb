{
 "cells": [
  {
   "cell_type": "markdown",
   "id": "1d0defd8-ace0-4e8c-a7b3-33ce1e7b382a",
   "metadata": {},
   "source": [
    "Q1. Explain GET and POST methods."
   ]
  },
  {
   "cell_type": "markdown",
   "id": "ac6912e6-f8df-40c9-a9cd-390ac06ff20b",
   "metadata": {},
   "source": [
    "GET method is used  when server the data through the URL\n",
    "Data is visible to everyone in the URL\t\t\n",
    "Can be cached\t\t\n",
    "\n",
    "where as POST method  is used to data by form or resources\n",
    "Data is not displayed in the URL\n",
    "Not cached"
   ]
  },
  {
   "cell_type": "markdown",
   "id": "18d9563f-78e1-45e8-9ccd-417bc9e04fdb",
   "metadata": {},
   "source": [
    "Q2. Why is request used in Flask?"
   ]
  },
  {
   "cell_type": "markdown",
   "id": "47f3099c-9594-48ad-b9d0-214219d0148d",
   "metadata": {},
   "source": [
    "ANS  In a Flask App, we have our own Webpage (Client) and a Server. The Server should process the data.  The Request, in Flask, is an object that contains all the data sent from the Client to Server. This data can be recovered using the GET/POST Methods. "
   ]
  },
  {
   "cell_type": "markdown",
   "id": "cede042b-786f-4df0-8ab0-7ce079e3147a",
   "metadata": {},
   "source": [
    "Q3. Why is redirect() used in Flask?"
   ]
  },
  {
   "cell_type": "markdown",
   "id": "2bf1c045-5538-4989-84d3-86801015f144",
   "metadata": {},
   "source": [
    "it returns a response object and redirects the user to another target location with specified status code. location parameter is the URL where response should be redirected."
   ]
  },
  {
   "cell_type": "markdown",
   "id": "b8dcbbb6-26e3-4ac6-9b60-0e7ebc30e8f0",
   "metadata": {},
   "source": [
    "Q4. What are templates in Flask? Why is the render_template() function used?"
   ]
  },
  {
   "cell_type": "markdown",
   "id": "d0bcaa25-4751-489f-80d5-9aa8d6c6b7ba",
   "metadata": {},
   "source": [
    "Templates are files that contain static data as well as placeholders for dynamic data. "
   ]
  }
 ],
 "metadata": {
  "kernelspec": {
   "display_name": "Python 3 (ipykernel)",
   "language": "python",
   "name": "python3"
  },
  "language_info": {
   "codemirror_mode": {
    "name": "ipython",
    "version": 3
   },
   "file_extension": ".py",
   "mimetype": "text/x-python",
   "name": "python",
   "nbconvert_exporter": "python",
   "pygments_lexer": "ipython3",
   "version": "3.10.8"
  }
 },
 "nbformat": 4,
 "nbformat_minor": 5
}
